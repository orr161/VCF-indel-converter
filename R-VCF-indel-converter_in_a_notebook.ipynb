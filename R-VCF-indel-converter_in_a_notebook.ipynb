{
 "cells": [
  {
   "cell_type": "markdown",
   "metadata": {},
   "source": [
    "## INDEL notation converter from \"-\" notation to proper VCF (including leading base).\n",
    "\n",
    "#### For info please contact me: or.yaacov@mail.huji.ac.il\n",
    "\n",
    "##### Dependencies:\n",
    "R (3+), \n",
    "Bioconductor (packages: BSgenomem, BSgenome.Hsapiens.UCSC.hg19, Biostrings)\n",
    "\n",
    "Takes a 5 col tsv file (chr, pos, name, ref, alt):\n",
    ">chr1\t20996757\tNULL\tT\t- <br>\n",
    ">chr1\t20996257\tNULL\tTT\t- <br>\n",
    ">chr1\t20996457\tNULL\t-\tTT <br>\n",
    ">chr1\t20996457\tNULL\t-\tT <br>\n",
    ">chr1\t20996457\tNULL\tA\tG<br>\n",
    "\n",
    "Converts to:\n",
    ">chr1\t20996756\tNULL\tAT\tA<br>\n",
    ">chr1\t20996255\tNULL\tAGTT\tAG<br>\n",
    ">chr1\t20996455\tNULL\tGA\tGATT<br>\n",
    ">chr1\t20996456\tNULL\tA\tAT<br>\n",
    ">chr1\t20996457\tNULL\tA\tG<br>"
   ]
  },
  {
   "cell_type": "code",
   "execution_count": 1,
   "metadata": {},
   "outputs": [
    {
     "name": "stderr",
     "output_type": "stream",
     "text": [
      "Loading required package: BiocGenerics\n",
      "Loading required package: parallel\n",
      "\n",
      "Attaching package: ‘BiocGenerics’\n",
      "\n",
      "The following objects are masked from ‘package:parallel’:\n",
      "\n",
      "    clusterApply, clusterApplyLB, clusterCall, clusterEvalQ,\n",
      "    clusterExport, clusterMap, parApply, parCapply, parLapply,\n",
      "    parLapplyLB, parRapply, parSapply, parSapplyLB\n",
      "\n",
      "The following objects are masked from ‘package:stats’:\n",
      "\n",
      "    IQR, mad, sd, var, xtabs\n",
      "\n",
      "The following objects are masked from ‘package:base’:\n",
      "\n",
      "    anyDuplicated, append, as.data.frame, basename, cbind, colMeans,\n",
      "    colnames, colSums, dirname, do.call, duplicated, eval, evalq,\n",
      "    Filter, Find, get, grep, grepl, intersect, is.unsorted, lapply,\n",
      "    lengths, Map, mapply, match, mget, order, paste, pmax, pmax.int,\n",
      "    pmin, pmin.int, Position, rank, rbind, Reduce, rowMeans, rownames,\n",
      "    rowSums, sapply, setdiff, sort, table, tapply, union, unique,\n",
      "    unsplit, which, which.max, which.min\n",
      "\n",
      "Loading required package: S4Vectors\n",
      "Loading required package: stats4\n",
      "\n",
      "Attaching package: ‘S4Vectors’\n",
      "\n",
      "The following object is masked from ‘package:base’:\n",
      "\n",
      "    expand.grid\n",
      "\n",
      "Loading required package: IRanges\n",
      "Loading required package: XVector\n",
      "\n",
      "Attaching package: ‘Biostrings’\n",
      "\n",
      "The following object is masked from ‘package:base’:\n",
      "\n",
      "    strsplit\n",
      "\n",
      "Loading required package: GenomeInfoDb\n",
      "Loading required package: GenomicRanges\n",
      "Loading required package: rtracklayer\n"
     ]
    }
   ],
   "source": [
    "#install.packages(\"BiocManager\")\n",
    "#BiocManager::install(c(\"BSgenome\", \"BSgenome.Hsapiens.UCSC.hg19\", \"Biostrings\" ))\n",
    "library(\"Biostrings\")\n",
    "library(\"BSgenome\")\n",
    "library(\"BSgenome.Hsapiens.UCSC.hg19\")"
   ]
  },
  {
   "cell_type": "markdown",
   "metadata": {},
   "source": [
    "Enter the file name and path, and run all cells (Ctrl+Entr)"
   ]
  },
  {
   "cell_type": "code",
   "execution_count": 2,
   "metadata": {},
   "outputs": [],
   "source": [
    "filePath = \"hyphen.vcf\"\n",
    "outPut = \"leading.vcf\""
   ]
  },
  {
   "cell_type": "markdown",
   "metadata": {},
   "source": [
    "This function looks up the base in hg19 by:\n",
    "chr (e.g. \"chr1\"), position, length above 1 base (default is single bast, meaning len=0)"
   ]
  },
  {
   "cell_type": "code",
   "execution_count": 3,
   "metadata": {},
   "outputs": [],
   "source": [
    "findbase <- function(chr, pos, len=0) {\n",
    "  letter <- toString(Hsapiens[[chr]][pos:(pos+len)])\n",
    "  return(letter)\n",
    "}"
   ]
  },
  {
   "cell_type": "code",
   "execution_count": 4,
   "metadata": {},
   "outputs": [
    {
     "data": {
      "text/html": [
       "<table>\n",
       "<thead><tr><th scope=col>chr</th><th scope=col>pos</th><th scope=col>name</th><th scope=col>ref</th><th scope=col>alt</th></tr></thead>\n",
       "<tbody>\n",
       "\t<tr><td>chr1    </td><td>20996757</td><td>NULL    </td><td>T       </td><td>-       </td></tr>\n",
       "\t<tr><td>chr1    </td><td>20996257</td><td>NULL    </td><td>TT      </td><td>-       </td></tr>\n",
       "\t<tr><td>chr1    </td><td>20996457</td><td>NULL    </td><td>-       </td><td>TT      </td></tr>\n",
       "\t<tr><td>chr1    </td><td>20996457</td><td>NULL    </td><td>-       </td><td>T       </td></tr>\n",
       "\t<tr><td>chr1    </td><td>20996457</td><td>NULL    </td><td>A       </td><td>G       </td></tr>\n",
       "</tbody>\n",
       "</table>\n"
      ],
      "text/latex": [
       "\\begin{tabular}{r|lllll}\n",
       " chr & pos & name & ref & alt\\\\\n",
       "\\hline\n",
       "\t chr1     & 20996757 & NULL     & T        & -       \\\\\n",
       "\t chr1     & 20996257 & NULL     & TT       & -       \\\\\n",
       "\t chr1     & 20996457 & NULL     & -        & TT      \\\\\n",
       "\t chr1     & 20996457 & NULL     & -        & T       \\\\\n",
       "\t chr1     & 20996457 & NULL     & A        & G       \\\\\n",
       "\\end{tabular}\n"
      ],
      "text/markdown": [
       "\n",
       "| chr | pos | name | ref | alt |\n",
       "|---|---|---|---|---|\n",
       "| chr1     | 20996757 | NULL     | T        | -        |\n",
       "| chr1     | 20996257 | NULL     | TT       | -        |\n",
       "| chr1     | 20996457 | NULL     | -        | TT       |\n",
       "| chr1     | 20996457 | NULL     | -        | T        |\n",
       "| chr1     | 20996457 | NULL     | A        | G        |\n",
       "\n"
      ],
      "text/plain": [
       "  chr  pos      name ref alt\n",
       "1 chr1 20996757 NULL T   -  \n",
       "2 chr1 20996257 NULL TT  -  \n",
       "3 chr1 20996457 NULL -   TT \n",
       "4 chr1 20996457 NULL -   T  \n",
       "5 chr1 20996457 NULL A   G  "
      ]
     },
     "metadata": {},
     "output_type": "display_data"
    }
   ],
   "source": [
    "#Read the table and prints it\n",
    "read1 <- read.table(file = filePath, col.names = c(\"chr\", \"pos\",\"name\", \"ref\", \"alt\")\n",
    "                    , colClasses=c(\"ref\"=\"character\", \"alt\"=\"character\"))\n",
    "read1"
   ]
  },
  {
   "cell_type": "code",
   "execution_count": 5,
   "metadata": {},
   "outputs": [
    {
     "data": {
      "text/html": [
       "<table>\n",
       "<thead><tr><th scope=col>chr</th><th scope=col>pos</th><th scope=col>name</th><th scope=col>ref</th><th scope=col>alt</th></tr></thead>\n",
       "<tbody>\n",
       "\t<tr><td>chr1    </td><td>20996756</td><td>NULL    </td><td>AT      </td><td>A       </td></tr>\n",
       "\t<tr><td>chr1    </td><td>20996255</td><td>NULL    </td><td>AGTT    </td><td>AG      </td></tr>\n",
       "\t<tr><td>chr1    </td><td>20996455</td><td>NULL    </td><td>GA      </td><td>GATT    </td></tr>\n",
       "\t<tr><td>chr1    </td><td>20996456</td><td>NULL    </td><td>A       </td><td>AT      </td></tr>\n",
       "\t<tr><td>chr1    </td><td>20996457</td><td>NULL    </td><td>A       </td><td>G       </td></tr>\n",
       "</tbody>\n",
       "</table>\n"
      ],
      "text/latex": [
       "\\begin{tabular}{r|lllll}\n",
       " chr & pos & name & ref & alt\\\\\n",
       "\\hline\n",
       "\t chr1     & 20996756 & NULL     & AT       & A       \\\\\n",
       "\t chr1     & 20996255 & NULL     & AGTT     & AG      \\\\\n",
       "\t chr1     & 20996455 & NULL     & GA       & GATT    \\\\\n",
       "\t chr1     & 20996456 & NULL     & A        & AT      \\\\\n",
       "\t chr1     & 20996457 & NULL     & A        & G       \\\\\n",
       "\\end{tabular}\n"
      ],
      "text/markdown": [
       "\n",
       "| chr | pos | name | ref | alt |\n",
       "|---|---|---|---|---|\n",
       "| chr1     | 20996756 | NULL     | AT       | A        |\n",
       "| chr1     | 20996255 | NULL     | AGTT     | AG       |\n",
       "| chr1     | 20996455 | NULL     | GA       | GATT     |\n",
       "| chr1     | 20996456 | NULL     | A        | AT       |\n",
       "| chr1     | 20996457 | NULL     | A        | G        |\n",
       "\n"
      ],
      "text/plain": [
       "  chr  pos      name ref  alt \n",
       "1 chr1 20996756 NULL AT   A   \n",
       "2 chr1 20996255 NULL AGTT AG  \n",
       "3 chr1 20996455 NULL GA   GATT\n",
       "4 chr1 20996456 NULL A    AT  \n",
       "5 chr1 20996457 NULL A    G   "
      ]
     },
     "metadata": {},
     "output_type": "display_data"
    }
   ],
   "source": [
    "#Converts the format and print it\n",
    "for(i in 1:nrow(read1)) {\n",
    "    row <- read1[i,]\n",
    "    alt <- read1[i,5]\n",
    "    ref <- read1[i,4]\n",
    "    pos <- read1[i,2]\n",
    "    chr <- read1[i,1]\n",
    "    if (alt == \"-\") {\n",
    "        Len= nchar(ref)\n",
    "        leadingPos = (pos-Len)\n",
    "        read1[i,2] <- leadingPos\n",
    "        leading = findbase(toString(chr), leadingPos, len=(Len-1))\n",
    "        read1[i,5] = leading\n",
    "        read1[i,4] = paste(leading, ref, sep=\"\")\n",
    "        }\n",
    "    else if (ref == \"-\") {\n",
    "        Len= nchar(alt)\n",
    "        leadingPos = (pos-Len)\n",
    "        read1[i,2] = leadingPos\n",
    "        leading = findbase(toString(chr), leadingPos, len=(Len-1))\n",
    "        read1[i,4] = leading\n",
    "        read1[i,5] = paste(leading, alt, sep=\"\")\n",
    "    }\n",
    "}\n",
    "read1"
   ]
  },
  {
   "cell_type": "code",
   "execution_count": 14,
   "metadata": {},
   "outputs": [],
   "source": [
    "#Save output:\n",
    "write.table(read1,file=outPut, sep = \"\\t\", quote = FALSE, col.names = F, row.names = F)"
   ]
  }
 ],
 "metadata": {
  "kernelspec": {
   "display_name": "R",
   "language": "R",
   "name": "ir"
  },
  "language_info": {
   "codemirror_mode": "r",
   "file_extension": ".r",
   "mimetype": "text/x-r-source",
   "name": "R",
   "pygments_lexer": "r",
   "version": "3.5.1"
  }
 },
 "nbformat": 4,
 "nbformat_minor": 2
}
